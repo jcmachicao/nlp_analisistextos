{
 "cells": [
  {
   "cell_type": "code",
   "execution_count": 3,
   "metadata": {},
   "outputs": [],
   "source": [
    "import PyPDF2\n",
    "import re"
   ]
  },
  {
   "cell_type": "code",
   "execution_count": 4,
   "metadata": {},
   "outputs": [],
   "source": [
    "ruta = 'D://trabajos/'\n",
    "arch = 'archivoejemplo.pdf'"
   ]
  },
  {
   "cell_type": "code",
   "execution_count": null,
   "metadata": {},
   "outputs": [],
   "source": [
    "tex_acum = ''\n",
    "\n",
    "fileObj = open(ruta + arch, 'rb')     \n",
    "pdfRead = PyPDF2.PdfFileReader(fileObj)\n",
    "pag = pdfRead.numPages\n",
    "\n",
    "for i in range(0, pag):\n",
    "    page = pdfRead.getPage(i)\n",
    "    lector = page.extractText()\n",
    "    texto = str(lector)\n",
    "    tex_acum += ' ' + texto\n",
    "print(tex_acum)"
   ]
  },
  {
   "cell_type": "code",
   "execution_count": 5,
   "metadata": {},
   "outputs": [],
   "source": [
    "texto_fuente = 'Se puede hacer la descripción de cómo fabricar oxígeno y divulgar en la población. Esta descripción tiene que ser precisa'"
   ]
  },
  {
   "cell_type": "code",
   "execution_count": 6,
   "metadata": {},
   "outputs": [],
   "source": [
    "palabra = 'descripción'"
   ]
  },
  {
   "cell_type": "code",
   "execution_count": 10,
   "metadata": {},
   "outputs": [
    {
     "name": "stdout",
     "output_type": "stream",
     "text": [
      "18 descripción\n",
      "88 descripción\n"
     ]
    }
   ],
   "source": [
    "hallazgos = re.finditer(palabra, texto_fuente)\n",
    "for hall in hallazgos:\n",
    "    print(hall.start(), hall.group())"
   ]
  },
  {
   "cell_type": "code",
   "execution_count": null,
   "metadata": {},
   "outputs": [],
   "source": []
  }
 ],
 "metadata": {
  "kernelspec": {
   "display_name": "Python 3",
   "language": "python",
   "name": "python3"
  },
  "language_info": {
   "codemirror_mode": {
    "name": "ipython",
    "version": 3
   },
   "file_extension": ".py",
   "mimetype": "text/x-python",
   "name": "python",
   "nbconvert_exporter": "python",
   "pygments_lexer": "ipython3",
   "version": "3.7.3"
  }
 },
 "nbformat": 4,
 "nbformat_minor": 4
}
