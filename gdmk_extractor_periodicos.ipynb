{
  "nbformat": 4,
  "nbformat_minor": 0,
  "metadata": {
    "colab": {
      "provenance": [],
      "mount_file_id": "1X8oKdrMcS5XSNC1oqxhB7CoUtZEu8jT0",
      "authorship_tag": "ABX9TyMWfhDc+t+GfUCOvzxAufHA",
      "include_colab_link": true
    },
    "kernelspec": {
      "name": "python3",
      "display_name": "Python 3"
    }
  },
  "cells": [
    {
      "cell_type": "markdown",
      "metadata": {
        "id": "view-in-github",
        "colab_type": "text"
      },
      "source": [
        "<a href=\"https://colab.research.google.com/github/jcmachicao/curso_analisistextos/blob/master/gdmk_extractor_periodicos.ipynb\" target=\"_parent\"><img src=\"https://colab.research.google.com/assets/colab-badge.svg\" alt=\"Open In Colab\"/></a>"
      ]
    },
    {
      "cell_type": "markdown",
      "metadata": {
        "id": "AiN4oWDBRgwX"
      },
      "source": [
        "# Extracción de vocabularios de periódicos locales"
      ]
    },
    {
      "cell_type": "code",
      "metadata": {
        "id": "hW2AMfMlV0qa"
      },
      "source": [
        "#@title Librerias\n",
        "\n",
        "import urllib3\n",
        "import requests\n",
        "from bs4 import BeautifulSoup\n",
        "\n",
        "import pandas as pd\n",
        "import numpy as np\n",
        "import matplotlib.pyplot as plt\n",
        "import os"
      ],
      "execution_count": null,
      "outputs": []
    },
    {
      "cell_type": "markdown",
      "source": [
        "## La Republica (Peru)"
      ],
      "metadata": {
        "id": "IpZjIfNhihvp"
      }
    },
    {
      "cell_type": "code",
      "metadata": {
        "id": "vwwnFgScXCDg"
      },
      "source": [
        "ruta = 'drive/My Drive/00 data/'\n",
        "wbs = 'https://larepublica.pe/'\n",
        "secciones = ['economia/', 'politica/']\n",
        "clases = ['LastNewsListA', 'PostSectionListH3', 'nav__inside', '', 'DefaultSubtitle', 'DefaultTitle']"
      ],
      "execution_count": null,
      "outputs": []
    },
    {
      "cell_type": "code",
      "metadata": {
        "id": "HxGY2bsB31bN",
        "colab": {
          "base_uri": "https://localhost:8080/"
        },
        "outputId": "57f0f87e-176e-4023-fe9c-12298a46fe8f"
      },
      "source": [
        "#@title Extracción de noticias\n",
        "noticias = []\n",
        "for sec in secciones:\n",
        "  print(sec)\n",
        "\n",
        "  pagina = requests.get(wbs+sec)\n",
        "  soup = BeautifulSoup(pagina.content, 'html.parser')\n",
        "  sel = soup.findAll( 'a', { 'class': clases[2] } )\n",
        "  for k in sel:\n",
        "    try:\n",
        "      pag2 = requests.get(k['href'])\n",
        "      soup2 = BeautifulSoup(pag2.content, 'html.parser')\n",
        "      sel2 = soup2.findAll( 'h1', {'class': clases[5] } )\n",
        "      sel22 = soup2.findAll('h2', {'class': clases[4] } )\n",
        "      for k2 in sel2:\n",
        "        tit = k2.text\n",
        "      for k22 in sel22:\n",
        "        subtit = k22.text\n",
        "        print(subtit)\n",
        "      noticias.append([sec, k['href'], tit, subtit])\n",
        "    except:\n",
        "      pass\n",
        "  "
      ],
      "execution_count": null,
      "outputs": [
        {
          "output_type": "stream",
          "name": "stdout",
          "text": [
            "economia/\n",
            "La presidenta de la República, Dina Boluarte, este viernes se reunió con integrantes de las bancadas de Integridad y Desarrollo y Acción Popular a horas de la designación de un nuevo gabinete ministerial.\n",
            "En el marco de la investigación preliminar por el presunto delito de rebelión, exministros de Castillo asistieron a la sede central del Ministerio Público para declarar en calidad de testigos. La citación de Betssy Chávez fue reprogramada para este sábado.\n",
            "El ingreso a los centros de evaluación fue desde las 7 a. m. hasta las 8 a. m. Más de 315.000 profesores rendirán la Prueba Única Nacional para ingresar a la Carrera Pública Magisterial. Sigue el minuto a minuto de esta evaluación docente.\n",
            "Portugal vs. Marruecos se medirán en el Estadio Al Thumama. Conoce en esta nota la hora, fecha y por dónde ver el partidazo de la Copa del Mundo.\n",
            "Revisa AQUÍ la hora y canal para seguir la transmisión del Francia vs. Inglaterra por los cuartos de final del Mundial Qatar 2022.\n",
            "El arranque de los cuartos de final del Mundial Qatar 2022 presentó duelos de infarto. Argentina y Croacia son los primeros en asegurar su pase a las semifinales.\n",
            "Ya tenemos a las ocho mejores selecciones del mundo. En esta nota podrás revisar quiénes y a qué hora juegan.\n",
            "La Albiceleste y los fieros buscarán su pase a la final de esta edición de la Copa del Mundo. Conoce cuándo se jugará este trascendental encuentro. \n",
            "¿Tienes pendiente hacer trámites en algún banco esta semana? Conoce en la presente nota qué entidades cerrarán sus puertas durante este feriado largo.\n",
            "Sorpresa. Chats del “Gabinete Bicentenario” narran las reacciones luego del golpe de Estado del expresidente Pedro Castillo. Betssy Chávez lo sabía todo. \n",
            "Expresidenta del Congreso y lingüista falleció el jueves 8 de diciembre a los 97 años en su vivienda, confirmaron autoridades de Miraflores.\n",
            "Minuto a minuto. Al darse cuenta de que los institutos castrenses y el comando policial no se sumarían a la disolución del Congreso, el exmandatario apuró la salida de Palacio de Gobierno con su familia y Aníbal Torres. Pero a la altura de la sede de la VII Región Policial de Lima fue intervenido y entregado a los fiscales por rebelión. \n",
            "Mike Bahía y Greeicy Rendón dieron su concierto en Lima este 8 de diciembre. Aquí te contamos de las incidencias del show que tuvo como teloneras a Nicole Favre y Michelle Soifer.\n",
            "Conoce el precio del dólar hoy, viernes 9 de diciembre, en Perú. Revisa el tipo de cambio en el mercado paralelo y en los principales bancos para la moneda estadounidense.\n",
            "Lloran los fans del ‘Conejo malo’. El cantante Bad Bunny sorprendió al revelar que ha decidido dejar su carrera musical por un tiempo. Esto fue lo que dijo.\n",
            "“Los Simpson” se han vuelto virales por una peculiar escena, en la cual se habría anticipado qué equipo se llevaría el triunfo en Qatar 2022. Sin embargo, las probabilidades están en contra.\n",
            "El presidente Pedro Castillo es el encargado de oficializar el nombre del año 2023. El 2022 fue declarado como el Año del Fortalecimiento de la Soberanía Nacional. \n",
            "Conoce los días que serán feriados este 2023 para que puedas disfrutar de unas breves vacaciones o un fin de semana familiar.\n",
            "El gobierno de Nicolás Maduro anunció la entrega del Primer Bono Especial de diciembre 2022. Revisa cuándo sería la fecha de entrega y cómo podrías cobrarlo. ¿Ya se conoce de cuánto es?\n",
            "Revisa AQUÍ el precio del dólar paralelo en Venezuela para HOY, viernes 9 de diciembre de 2022. Los portales de Monitor Dólar y DolarToday actualizan el valor de la moneda estadounidense cada 60 minutos durante el día. \n",
            "AQUÍ podrás enterarte de la tasa oficial EN VIVO del dólar oficial en Venezuela para HOY, viernes 9 de diciembre de 2022, de acuerdo a la plataforma del Banco Central de Venezuela (BCV). \n",
            "Consulta los resultados de la última edición de La Tinka y entérate cuál fue la jugada ganadora, la boliyapa y todos los detalles de la lotería de Intralot. \n",
            "Revisa de cuánto fue el temblor de hoy en Perú, según los últimos reportes del IGP (Instituto Geofísico del Perú) para este viernes 9 de diciembre.\n",
            "¿Qué te depara el destino para hoy? Consulta tu Horóscopo diario y conoce las predicciones de la mano de Jhan Sandoval sobre el amor, salud y dinero.\n",
            "Conocé EN VIVO los resultados y el extracto oficial de la Quiniela Nacional y Provincia de HOY, 9 de diciembre de 2022. Seguí las cabezas de la Previa, la Primera, la Matutina, la Vespertina y la Nocturna.\n",
            "politica/\n",
            "La presidenta de la República, Dina Boluarte, este viernes se reunió con integrantes de las bancadas de Integridad y Desarrollo y Acción Popular a horas de la designación de un nuevo gabinete ministerial.\n",
            "En el marco de la investigación preliminar por el presunto delito de rebelión, exministros de Castillo asistieron a la sede central del Ministerio Público para declarar en calidad de testigos. La citación de Betssy Chávez fue reprogramada para este sábado.\n",
            "El ingreso a los centros de evaluación fue desde las 7 a. m. hasta las 8 a. m. Más de 315.000 profesores rendirán la Prueba Única Nacional para ingresar a la Carrera Pública Magisterial. Sigue el minuto a minuto de esta evaluación docente.\n",
            "Portugal vs. Marruecos se medirán en el Estadio Al Thumama. Conoce en esta nota la hora, fecha y por dónde ver el partidazo de la Copa del Mundo.\n",
            "Revisa AQUÍ la hora y canal para seguir la transmisión del Francia vs. Inglaterra por los cuartos de final del Mundial Qatar 2022.\n",
            "El arranque de los cuartos de final del Mundial Qatar 2022 presentó duelos de infarto. Argentina y Croacia son los primeros en asegurar su pase a las semifinales.\n",
            "Ya tenemos a las ocho mejores selecciones del mundo. En esta nota podrás revisar quiénes y a qué hora juegan.\n",
            "La Albiceleste y los fieros buscarán su pase a la final de esta edición de la Copa del Mundo. Conoce cuándo se jugará este trascendental encuentro. \n",
            "¿Tienes pendiente hacer trámites en algún banco esta semana? Conoce en la presente nota qué entidades cerrarán sus puertas durante este feriado largo.\n",
            "Sorpresa. Chats del “Gabinete Bicentenario” narran las reacciones luego del golpe de Estado del expresidente Pedro Castillo. Betssy Chávez lo sabía todo. \n",
            "Expresidenta del Congreso y lingüista falleció el jueves 8 de diciembre a los 97 años en su vivienda, confirmaron autoridades de Miraflores.\n",
            "Minuto a minuto. Al darse cuenta de que los institutos castrenses y el comando policial no se sumarían a la disolución del Congreso, el exmandatario apuró la salida de Palacio de Gobierno con su familia y Aníbal Torres. Pero a la altura de la sede de la VII Región Policial de Lima fue intervenido y entregado a los fiscales por rebelión. \n",
            "Mike Bahía y Greeicy Rendón dieron su concierto en Lima este 8 de diciembre. Aquí te contamos de las incidencias del show que tuvo como teloneras a Nicole Favre y Michelle Soifer.\n",
            "Conoce el precio del dólar hoy, viernes 9 de diciembre, en Perú. Revisa el tipo de cambio en el mercado paralelo y en los principales bancos para la moneda estadounidense.\n",
            "Lloran los fans del ‘Conejo malo’. El cantante Bad Bunny sorprendió al revelar que ha decidido dejar su carrera musical por un tiempo. Esto fue lo que dijo.\n",
            "“Los Simpson” se han vuelto virales por una peculiar escena, en la cual se habría anticipado qué equipo se llevaría el triunfo en Qatar 2022. Sin embargo, las probabilidades están en contra.\n",
            "El presidente Pedro Castillo es el encargado de oficializar el nombre del año 2023. El 2022 fue declarado como el Año del Fortalecimiento de la Soberanía Nacional. \n",
            "Conoce los días que serán feriados este 2023 para que puedas disfrutar de unas breves vacaciones o un fin de semana familiar.\n",
            "El gobierno de Nicolás Maduro anunció la entrega del Primer Bono Especial de diciembre 2022. Revisa cuándo sería la fecha de entrega y cómo podrías cobrarlo. ¿Ya se conoce de cuánto es?\n",
            "Revisa AQUÍ el precio del dólar paralelo en Venezuela para HOY, viernes 9 de diciembre de 2022. Los portales de Monitor Dólar y DolarToday actualizan el valor de la moneda estadounidense cada 60 minutos durante el día. \n",
            "AQUÍ podrás enterarte de la tasa oficial EN VIVO del dólar oficial en Venezuela para HOY, viernes 9 de diciembre de 2022, de acuerdo a la plataforma del Banco Central de Venezuela (BCV). \n",
            "Consulta los resultados de la última edición de La Tinka y entérate cuál fue la jugada ganadora, la boliyapa y todos los detalles de la lotería de Intralot. \n",
            "Revisa de cuánto fue el temblor de hoy en Perú, según los últimos reportes del IGP (Instituto Geofísico del Perú) para este viernes 9 de diciembre.\n",
            "¿Qué te depara el destino para hoy? Consulta tu Horóscopo diario y conoce las predicciones de la mano de Jhan Sandoval sobre el amor, salud y dinero.\n",
            "Conocé EN VIVO los resultados y el extracto oficial de la Quiniela Nacional y Provincia de HOY, 9 de diciembre de 2022. Seguí las cabezas de la Previa, la Primera, la Matutina, la Vespertina y la Nocturna.\n"
          ]
        }
      ]
    },
    {
      "cell_type": "code",
      "metadata": {
        "id": "zkAPED-KYSEP"
      },
      "source": [
        "noticias_df = pd.DataFrame(noticias)\n",
        "noticias_df.columns = ['seccion', 'href', 'titular', 'subtitulo']\n",
        "noticias_df = noticias_df.drop_duplicates(subset=['subtitulo'])\n",
        "noticias_df"
      ],
      "execution_count": null,
      "outputs": []
    },
    {
      "cell_type": "code",
      "source": [
        "os.listdir(ruta)"
      ],
      "metadata": {
        "id": "PqO-Yfjss0EN"
      },
      "execution_count": null,
      "outputs": []
    },
    {
      "cell_type": "code",
      "metadata": {
        "id": "cWYxVYWOzkl0"
      },
      "source": [
        "noticias_df.to_excel(ruta + 'noticias_hoy_10.xlsx')"
      ],
      "execution_count": null,
      "outputs": []
    },
    {
      "cell_type": "markdown",
      "metadata": {
        "id": "oxuu9vVF7BqX"
      },
      "source": [
        "# The Atlantic"
      ]
    },
    {
      "cell_type": "code",
      "metadata": {
        "id": "V4FiDqHatUQp"
      },
      "source": [
        "import re"
      ],
      "execution_count": null,
      "outputs": []
    },
    {
      "cell_type": "code",
      "metadata": {
        "colab": {
          "base_uri": "https://localhost:8080/"
        },
        "id": "4Lsj27ZjrGFM",
        "outputId": "ed736361-96ac-4795-c24f-8cdf936ca84f"
      },
      "source": [
        "url_atlantic = 'https://www.theatlantic.com/world/'\n",
        "clasex = 'o-hed c-card__hed', 'o-hed c-offlede__hed'\n",
        "pagina = requests.get(url_atlantic)\n",
        "pagina"
      ],
      "execution_count": null,
      "outputs": [
        {
          "output_type": "execute_result",
          "data": {
            "text/plain": [
              "<Response [200]>"
            ]
          },
          "metadata": {},
          "execution_count": 6
        }
      ]
    },
    {
      "cell_type": "code",
      "metadata": {
        "colab": {
          "base_uri": "https://localhost:8080/"
        },
        "id": "Ysx8xivure_i",
        "outputId": "d30d2cac-f873-4d4d-887f-5f6c98cdb187"
      },
      "source": [
        "soup = BeautifulSoup(pagina.content, 'html.parser')\n",
        "sel = soup.findAll( 'h2', {'class': re.compile('.*o-hed.*')} )\n",
        "for s in sel:\n",
        "  print(s.a.text.replace('\\n', '').replace('  ', ''), s.a['href'])"
      ],
      "execution_count": null,
      "outputs": [
        {
          "output_type": "stream",
          "name": "stdout",
          "text": [
            "What’s Really Behind Global Vaccine Hesitancy https://www.theatlantic.com/politics/archive/2021/12/which-countries-have-most-anti-vaxxers/620901/\n",
            "The Winter of Complicated Vaccination Statuses https://www.theatlantic.com/family/archive/2021/12/covid-booster-fully-vaccinated-omicron/620916/\n",
            "We’re Not at Endemicity Yet https://www.theatlantic.com/health/archive/2021/12/covid-is-not-endemic-yet-and-may-not-be-for-a-long-time/620914/\n",
            "How to Care Less About Work https://www.theatlantic.com/ideas/archive/2021/12/how-care-less-about-work/620902/\n",
            "Are We Doomed? https://www.theatlantic.com/magazine/archive/2022/01/imagine-death-american-democracy-trump-insurrection/620841/\n",
            "A Party, and Nation, in Crisis https://www.theatlantic.com/magazine/archive/2022/01/republican-party-america-democracy-in-crisis/620839/\n",
            "Red Rocket Is a Terrifyingly Honest Look at a Shameless Man https://www.theatlantic.com/culture/archive/2021/12/red-rocket-film-review/620910/\n",
            "Omicron’s Best- and Worst-Case Scenarios https://www.theatlantic.com/health/archive/2021/12/how-bad-omicron-variant/620870/\n",
            "Has Succession Done the Unthinkable? https://www.theatlantic.com/culture/archive/2021/12/succession-season-3-episode-8/620903/\n",
            "Tucker Carlson Is Completing the Work That Trump Began https://www.theatlantic.com/ideas/archive/2021/12/why-tucker-carlson-defending-alex-jones/620906/\n",
            "Adele’s 30 and the Year of the Breakup Album https://www.theatlantic.com/podcasts/archive/2021/12/adeles-30-and-the-year-of-the-breakup-album/620898/\n",
            "Office Holiday Parties Really Might Never Be the Same https://www.theatlantic.com/health/archive/2021/12/office-holiday-party-covid/620897/\n",
            "Enes Kanter Freedom Is Letting Himself Be Used https://www.theatlantic.com/ideas/archive/2021/12/enes-kanter-freedom-letting-himself-be-used/620900/\n",
            "Poem: A Very Small Animal Entirely Surrounded by Water https://www.theatlantic.com/books/archive/2021/12/poem-sam-sax-very-small-animal-entirely-surrounded-water/620911/\n"
          ]
        }
      ]
    }
  ]
}