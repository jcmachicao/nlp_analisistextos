{
  "nbformat": 4,
  "nbformat_minor": 0,
  "metadata": {
    "colab": {
      "name": "gdmk_docx_pdf_extraccion.ipynb",
      "provenance": [],
      "toc_visible": true,
      "authorship_tag": "ABX9TyP3Y/iMfcdpUe4Sp4HWw+a2",
      "include_colab_link": true
    },
    "kernelspec": {
      "name": "python3",
      "display_name": "Python 3"
    }
  },
  "cells": [
    {
      "cell_type": "markdown",
      "metadata": {
        "id": "view-in-github",
        "colab_type": "text"
      },
      "source": [
        "<a href=\"https://colab.research.google.com/github/jcmachicao/curso_analisistextos/blob/master/gdmk%20_AT04_M1_docx_pdf_extraccion.ipynb\" target=\"_parent\"><img src=\"https://colab.research.google.com/assets/colab-badge.svg\" alt=\"Open In Colab\"/></a>"
      ]
    },
    {
      "cell_type": "markdown",
      "metadata": {
        "id": "HzjjSy3WXL9o",
        "colab_type": "text"
      },
      "source": [
        "# Extracción de Textos Externos"
      ]
    },
    {
      "cell_type": "markdown",
      "metadata": {
        "id": "LZSX2zlrFvcM",
        "colab_type": "text"
      },
      "source": [
        "### Instalación de paquetes para extracción"
      ]
    },
    {
      "cell_type": "code",
      "metadata": {
        "id": "rWTVwd4lpVzV",
        "colab_type": "code",
        "colab": {
          "base_uri": "https://localhost:8080/",
          "height": 52
        },
        "outputId": "67e575f8-722f-4e4c-fc3a-598caf185999"
      },
      "source": [
        "!pip install python-docx"
      ],
      "execution_count": 44,
      "outputs": [
        {
          "output_type": "stream",
          "text": [
            "Requirement already satisfied: python-docx in /usr/local/lib/python3.6/dist-packages (0.8.10)\n",
            "Requirement already satisfied: lxml>=2.3.2 in /usr/local/lib/python3.6/dist-packages (from python-docx) (4.2.6)\n"
          ],
          "name": "stdout"
        }
      ]
    },
    {
      "cell_type": "code",
      "metadata": {
        "id": "2U1XDiRMvlaO",
        "colab_type": "code",
        "colab": {
          "base_uri": "https://localhost:8080/",
          "height": 34
        },
        "outputId": "52ffaac5-9a2f-4bb6-f9f8-af98c1bc29a1"
      },
      "source": [
        "!pip install PyPDF2"
      ],
      "execution_count": 45,
      "outputs": [
        {
          "output_type": "stream",
          "text": [
            "Requirement already satisfied: PyPDF2 in /usr/local/lib/python3.6/dist-packages (1.26.0)\n"
          ],
          "name": "stdout"
        }
      ]
    },
    {
      "cell_type": "code",
      "metadata": {
        "id": "6a-oYHqWQJ1g",
        "colab_type": "code",
        "colab": {
          "base_uri": "https://localhost:8080/",
          "height": 105
        },
        "outputId": "920e6ab5-4a22-4687-e47b-64c4f60f5322"
      },
      "source": [
        "!pip install nltk\n",
        "import nltk\n",
        "nltk.download('punkt')"
      ],
      "execution_count": 46,
      "outputs": [
        {
          "output_type": "stream",
          "text": [
            "Requirement already satisfied: nltk in /usr/local/lib/python3.6/dist-packages (3.2.5)\n",
            "Requirement already satisfied: six in /usr/local/lib/python3.6/dist-packages (from nltk) (1.12.0)\n",
            "[nltk_data] Downloading package punkt to /root/nltk_data...\n",
            "[nltk_data]   Package punkt is already up-to-date!\n"
          ],
          "name": "stdout"
        },
        {
          "output_type": "execute_result",
          "data": {
            "text/plain": [
              "True"
            ]
          },
          "metadata": {
            "tags": []
          },
          "execution_count": 46
        }
      ]
    },
    {
      "cell_type": "markdown",
      "metadata": {
        "id": "x7djqsrpwaLF",
        "colab_type": "text"
      },
      "source": [
        "### Librerías"
      ]
    },
    {
      "cell_type": "code",
      "metadata": {
        "id": "Yq0XApqAwY78",
        "colab_type": "code",
        "colab": {}
      },
      "source": [
        "import docx\n",
        "import pandas as pd\n",
        "import nltk"
      ],
      "execution_count": 0,
      "outputs": []
    },
    {
      "cell_type": "markdown",
      "metadata": {
        "id": "fX5h1bmw30KE",
        "colab_type": "text"
      },
      "source": [
        "### Cómo extraer texto de un documento .docx"
      ]
    },
    {
      "cell_type": "code",
      "metadata": {
        "id": "QNLfoD91ycYx",
        "colab_type": "code",
        "colab": {}
      },
      "source": [
        "nombre_archivo = 'prueba_doc2.docx'\n",
        "doc_par = docx.Document(nombre_archivo) # doc_par es la variable que contine un archivo docx \n",
        "parrs = len(doc_par.paragraphs)\n",
        "\n",
        "texto_largo = ''\n",
        "extractos = []\n",
        "\n",
        "for k in range(parrs):\n",
        "  texto_parr = doc_par.paragraphs[k].text\n",
        "  lar_parr = len(texto_parr)\n",
        "  extractos.append([nombre_archivo, lar_parr, texto_parr])\n",
        "\n",
        "extra_df = pd.DataFrame(extractos)\n",
        "extra_df.columns = ['archivo', 'largo', 'texto_parrafo']"
      ],
      "execution_count": 0,
      "outputs": []
    },
    {
      "cell_type": "code",
      "metadata": {
        "id": "w5NNszm-ynQ2",
        "colab_type": "code",
        "colab": {
          "base_uri": "https://localhost:8080/",
          "height": 107
        },
        "outputId": "2e1abd7f-1fb0-4154-8350-461ce4eacffc"
      },
      "source": [
        "extra_df"
      ],
      "execution_count": 42,
      "outputs": [
        {
          "output_type": "execute_result",
          "data": {
            "text/html": [
              "<div>\n",
              "<style scoped>\n",
              "    .dataframe tbody tr th:only-of-type {\n",
              "        vertical-align: middle;\n",
              "    }\n",
              "\n",
              "    .dataframe tbody tr th {\n",
              "        vertical-align: top;\n",
              "    }\n",
              "\n",
              "    .dataframe thead th {\n",
              "        text-align: right;\n",
              "    }\n",
              "</style>\n",
              "<table border=\"1\" class=\"dataframe\">\n",
              "  <thead>\n",
              "    <tr style=\"text-align: right;\">\n",
              "      <th></th>\n",
              "      <th>archivo</th>\n",
              "      <th>largo</th>\n",
              "      <th>texto_parrafo</th>\n",
              "    </tr>\n",
              "  </thead>\n",
              "  <tbody>\n",
              "    <tr>\n",
              "      <th>0</th>\n",
              "      <td>prueba_doc2.docx</td>\n",
              "      <td>1050</td>\n",
              "      <td>Estoy de acuerdo en gran medida en que creo qu...</td>\n",
              "    </tr>\n",
              "    <tr>\n",
              "      <th>1</th>\n",
              "      <td>prueba_doc2.docx</td>\n",
              "      <td>2382</td>\n",
              "      <td>La guerra nuclear y el cambio climático corren...</td>\n",
              "    </tr>\n",
              "  </tbody>\n",
              "</table>\n",
              "</div>"
            ],
            "text/plain": [
              "            archivo  largo                                      texto_parrafo\n",
              "0  prueba_doc2.docx   1050  Estoy de acuerdo en gran medida en que creo qu...\n",
              "1  prueba_doc2.docx   2382  La guerra nuclear y el cambio climático corren..."
            ]
          },
          "metadata": {
            "tags": []
          },
          "execution_count": 42
        }
      ]
    },
    {
      "cell_type": "code",
      "metadata": {
        "id": "f461uS5uy_mp",
        "colab_type": "code",
        "colab": {
          "base_uri": "https://localhost:8080/",
          "height": 425
        },
        "outputId": "464a2e1c-d202-4817-abbb-7b33aa5d617f"
      },
      "source": [
        "texto_a = extra_df.texto_parrafo[1]\n",
        "texto_estudio = nltk.sent_tokenize(texto_a)\n",
        "ancho = 120\n",
        "for tx in texto_estudio:\n",
        "  ltx = len(tx)\n",
        "  print('Largo: ', ltx)\n",
        "  for j in range( int(ltx/ancho)+1 ): \n",
        "    print(tx[j*ancho:(j+1)*ancho])"
      ],
      "execution_count": 43,
      "outputs": [
        {
          "output_type": "stream",
          "text": [
            "Largo:  674\n",
            "La guerra nuclear y el cambio climático corren el riesgo de tecnologías disruptivas, especialmente inteligencia artifici\n",
            "al y biotecnología que, por supuesto, también tienen enormes promesas para la humanidad, pero también algunas amenazas m\n",
            "uy serias si se trata de una agitación social completa como resultado de cambiar el mercado laboral muy rápidamente, ya \n",
            "sea El surgimiento de nuevas dictaduras digitales y regímenes totalitarios es peor que cualquier cosa que hayamos visto \n",
            "antes en la historia y quizás el mayor problema con todo eso es que para las tres amenazas, ya sea que hablemos de guerr\n",
            "a nuclear o cambio climático, todo el auge de las tecnologías disruptivas.\n",
            "Largo:  1707\n",
            "algo efectivo contra la amenaza que necesita la cooperación global Creo que es muy obvio que no puede resolver el cambio\n",
            " climático solo en el nivel de un país de manera similar, no puede regular si tiene inteligencia solo en el nivel de un \n",
            "país porque a nadie le gustaría quedarse atrás si lo piensas Sé conducir experimentos de ingeniería genética en humanos \n",
            "incluso si el 90% de los países si no tiene un solo país que lo haga, las ventajas podrían ser tan grandes que pronto to\n",
            "do el mundo lo copiará porque a nadie le gustaría quedarse atrás, por lo que necesita cooperación global y en los último\n",
            "s tres o cuatro años el mundo está corriendo en la dirección opuesta de más y más tensiones y realmente la amenaza del c\n",
            "olapso completo del sistema global y sin nada que lo reemplace, quiero decir que hay muchas críticas en los últimos años\n",
            " del viejo sistema y ciertamente tiene su problemas, pero lo que realmente me preocupa es que cuando escucho las crítica\n",
            "s no escucho ninguna alternativa, así que hay muchos líderes y movimientos populistas y nacionalistas que critican el or\n",
            "den global actual y tienen muchas ideas buenas sobre qué hacer en su propio país, pero no tienen ningún plan sobre cómo \n",
            "gestionar el mundo en su conjunto, parecen tener una visión del mundo como una especie de red de fortalezas y esperan qu\n",
            "e sea una red k de fortalezas amistosas, pero las fortalezas rara vez son amigables si no tiene un sistema global real, \n",
            "no hay forma de resolver disputas, ya sea en el comercio o el clima territorial entre países y ciertamente no hay forma \n",
            "de enfrentar problemas como el cambio climático en tecnología disruptiva por eso ahora soy menos optimista de lo que dec\n",
            "ía hace cuatro o cinco años\n"
          ],
          "name": "stdout"
        }
      ]
    },
    {
      "cell_type": "markdown",
      "metadata": {
        "id": "S7OcJKHZwhCf",
        "colab_type": "text"
      },
      "source": [
        "### Cómo extraer texto de un Documento .pdf"
      ]
    },
    {
      "cell_type": "code",
      "metadata": {
        "id": "6MYAR-TJwmKD",
        "colab_type": "code",
        "colab": {}
      },
      "source": [
        "import PyPDF2\n",
        "import os"
      ],
      "execution_count": 0,
      "outputs": []
    },
    {
      "cell_type": "code",
      "metadata": {
        "id": "fKSIxCT9zAjB",
        "colab_type": "code",
        "colab": {}
      },
      "source": [
        "website_doc = 'http://idbdocs.iadb.org/wsdocs/getdocument.aspx?docnum=EZSHARE-333175312-60'"
      ],
      "execution_count": 0,
      "outputs": []
    },
    {
      "cell_type": "code",
      "metadata": {
        "id": "7GFvZgwwtj4U",
        "colab_type": "code",
        "colab": {}
      },
      "source": [
        "archivo = 'agua ecuador.pdf'\n",
        "fileObj = open(archivo, 'rb')     \n",
        "pdfRead = PyPDF2.PdfFileReader(fileObj)"
      ],
      "execution_count": 0,
      "outputs": []
    },
    {
      "cell_type": "code",
      "metadata": {
        "id": "36uyNNI63A05",
        "colab_type": "code",
        "colab": {}
      },
      "source": [
        "infor = pdfRead.getDocumentInfo()\n",
        "pag = pdfRead.numPages # numero total de paginas\n",
        "textos = ''\n",
        "# asumiendo un rango entre la página 5 y la página 10\n",
        "pag_ini = 5\n",
        "pag_fin = 8\n",
        "for i in range(pag_ini, pag_fin): # establecer limite de paginas\n",
        "  page = pdfRead.getPage(i)\n",
        "  lector = page.extractText()\n",
        "  texto = str(lector).replace('\\n','') # encode('iso-8859-1')\n",
        "  textos = str(textos + texto)"
      ],
      "execution_count": 0,
      "outputs": []
    },
    {
      "cell_type": "code",
      "metadata": {
        "id": "wbJO5tbl3FMc",
        "colab_type": "code",
        "colab": {}
      },
      "source": [
        "ancho = 120\n",
        "ltx = len(textos)\n",
        "print('Largo: ', ltx)\n",
        "\n",
        "for j in range( int(ltx/ancho)+1 ): \n",
        "  print(textos[j*ancho:(j+1)*ancho])"
      ],
      "execution_count": 0,
      "outputs": []
    },
    {
      "cell_type": "code",
      "metadata": {
        "id": "9gIabA2W-qpO",
        "colab_type": "code",
        "colab": {
          "base_uri": "https://localhost:8080/",
          "height": 194
        },
        "outputId": "1542e7de-23ed-48c9-b0bf-3b84bc7943ab"
      },
      "source": [
        "oraciones = nltk.word_tokenize(textos[500:1000])\n",
        "nltk.FreqDist(oraciones).most_common(10)"
      ],
      "execution_count": 69,
      "outputs": [
        {
          "output_type": "execute_result",
          "data": {
            "text/plain": [
              "[('de', 8),\n",
              " (',', 5),\n",
              " ('USD', 4),\n",
              " ('millones', 4),\n",
              " ('inversión', 3),\n",
              " ('la', 3),\n",
              " ('para', 2),\n",
              " ('las', 2),\n",
              " ('.', 2),\n",
              " ('durante', 2)]"
            ]
          },
          "metadata": {
            "tags": []
          },
          "execution_count": 69
        }
      ]
    }
  ]
}
