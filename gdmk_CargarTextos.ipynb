{
  "nbformat": 4,
  "nbformat_minor": 0,
  "metadata": {
    "colab": {
      "name": "gdmk AT03 M1 Leccion 3 Cargar Textos.ipynb",
      "provenance": [],
      "collapsed_sections": [],
      "toc_visible": true,
      "authorship_tag": "ABX9TyP+2b8KTD6ANVZido545sDa",
      "include_colab_link": true
    },
    "kernelspec": {
      "name": "python3",
      "display_name": "Python 3"
    }
  },
  "cells": [
    {
      "cell_type": "markdown",
      "metadata": {
        "id": "view-in-github",
        "colab_type": "text"
      },
      "source": [
        "<a href=\"https://colab.research.google.com/github/jcmachicao/curso_analisistextos/blob/master/gdmk_AT03_M1_Leccion_3_Cargar_Textos.ipynb\" target=\"_parent\"><img src=\"https://colab.research.google.com/assets/colab-badge.svg\" alt=\"Open In Colab\"/></a>"
      ]
    },
    {
      "cell_type": "markdown",
      "metadata": {
        "id": "ENYbrjU6BN71",
        "colab_type": "text"
      },
      "source": [
        "###### GestioDinámica\n",
        "#### Curso AT01: Módulo 1\n",
        "### Lección 2\n",
        "# Carga de textos al cuaderno"
      ]
    },
    {
      "cell_type": "code",
      "metadata": {
        "id": "c4ZtWED5Bo7R",
        "colab_type": "code",
        "outputId": "860f0a0f-be9d-45c5-ba2a-5cc98959c396",
        "cellView": "form",
        "colab": {
          "base_uri": "https://localhost:8080/",
          "height": 70
        }
      },
      "source": [
        "#@title Paso 1: Carga de Librerías\n",
        "import pandas as pd\n",
        "import re\n",
        "import nltk\n",
        "nltk.download('punkt')"
      ],
      "execution_count": 0,
      "outputs": [
        {
          "output_type": "stream",
          "text": [
            "[nltk_data] Downloading package punkt to /root/nltk_data...\n",
            "[nltk_data]   Package punkt is already up-to-date!\n"
          ],
          "name": "stdout"
        },
        {
          "output_type": "execute_result",
          "data": {
            "text/plain": [
              "True"
            ]
          },
          "metadata": {
            "tags": []
          },
          "execution_count": 2
        }
      ]
    },
    {
      "cell_type": "code",
      "metadata": {
        "id": "WxZnMiIKVv_n",
        "colab_type": "code",
        "colab": {}
      },
      "source": [
        "texto = pd.read_excel('conversacion.xlsx', header=None)\n",
        "texto.columns = ['frases']"
      ],
      "execution_count": 0,
      "outputs": []
    },
    {
      "cell_type": "code",
      "metadata": {
        "id": "hov1-Enpg_rw",
        "colab_type": "code",
        "outputId": "06ee892a-fe5a-40c5-f398-67da8efd6d7a",
        "colab": {
          "base_uri": "https://localhost:8080/",
          "height": 406
        }
      },
      "source": [
        "texto['largo'] = texto.frases.str.len()\n",
        "texto"
      ],
      "execution_count": 0,
      "outputs": [
        {
          "output_type": "execute_result",
          "data": {
            "text/html": [
              "<div>\n",
              "<style scoped>\n",
              "    .dataframe tbody tr th:only-of-type {\n",
              "        vertical-align: middle;\n",
              "    }\n",
              "\n",
              "    .dataframe tbody tr th {\n",
              "        vertical-align: top;\n",
              "    }\n",
              "\n",
              "    .dataframe thead th {\n",
              "        text-align: right;\n",
              "    }\n",
              "</style>\n",
              "<table border=\"1\" class=\"dataframe\">\n",
              "  <thead>\n",
              "    <tr style=\"text-align: right;\">\n",
              "      <th></th>\n",
              "      <th>frases</th>\n",
              "      <th>largo</th>\n",
              "    </tr>\n",
              "  </thead>\n",
              "  <tbody>\n",
              "    <tr>\n",
              "      <th>0</th>\n",
              "      <td>Mario Vargas Llosa</td>\n",
              "      <td>19</td>\n",
              "    </tr>\n",
              "    <tr>\n",
              "      <th>1</th>\n",
              "      <td>Conversación en La Catedral</td>\n",
              "      <td>28</td>\n",
              "    </tr>\n",
              "    <tr>\n",
              "      <th>2</th>\n",
              "      <td>Novela</td>\n",
              "      <td>7</td>\n",
              "    </tr>\n",
              "    <tr>\n",
              "      <th>3</th>\n",
              "      <td>Seix Barral</td>\n",
              "      <td>12</td>\n",
              "    </tr>\n",
              "    <tr>\n",
              "      <th>4</th>\n",
              "      <td>Biblioteca Breve</td>\n",
              "      <td>17</td>\n",
              "    </tr>\n",
              "    <tr>\n",
              "      <th>...</th>\n",
              "      <td>...</td>\n",
              "      <td>...</td>\n",
              "    </tr>\n",
              "    <tr>\n",
              "      <th>939</th>\n",
              "      <td>Seguía subiendo, digiriendo, obstinado y en ti...</td>\n",
              "      <td>536</td>\n",
              "    </tr>\n",
              "    <tr>\n",
              "      <th>940</th>\n",
              "      <td>-Dejamos una compañía en San Marcos y estamos ...</td>\n",
              "      <td>228</td>\n",
              "    </tr>\n",
              "    <tr>\n",
              "      <th>941</th>\n",
              "      <td>-Déjeme las fichas ésas para mostrárselas al M...</td>\n",
              "      <td>75</td>\n",
              "    </tr>\n",
              "    <tr>\n",
              "      <th>942</th>\n",
              "      <td>Desplegó las armoniosas alas retintas, se incl...</td>\n",
              "      <td>265</td>\n",
              "    </tr>\n",
              "    <tr>\n",
              "      <th>943</th>\n",
              "      <td>79</td>\n",
              "      <td>3</td>\n",
              "    </tr>\n",
              "  </tbody>\n",
              "</table>\n",
              "<p>944 rows × 2 columns</p>\n",
              "</div>"
            ],
            "text/plain": [
              "                                                frases  largo\n",
              "0                                  Mario Vargas Llosa      19\n",
              "1                         Conversación en La Catedral      28\n",
              "2                                              Novela       7\n",
              "3                                         Seix Barral      12\n",
              "4                                    Biblioteca Breve      17\n",
              "..                                                 ...    ...\n",
              "939  Seguía subiendo, digiriendo, obstinado y en ti...    536\n",
              "940  -Dejamos una compañía en San Marcos y estamos ...    228\n",
              "941  -Déjeme las fichas ésas para mostrárselas al M...     75\n",
              "942  Desplegó las armoniosas alas retintas, se incl...    265\n",
              "943                                                79       3\n",
              "\n",
              "[944 rows x 2 columns]"
            ]
          },
          "metadata": {
            "tags": []
          },
          "execution_count": 31
        }
      ]
    },
    {
      "cell_type": "code",
      "metadata": {
        "id": "AK5r26J2LfVA",
        "colab_type": "code",
        "outputId": "ec0b6d48-2554-4fa4-a62e-18a21c041ee4",
        "colab": {
          "base_uri": "https://localhost:8080/",
          "height": 406
        }
      },
      "source": [
        "import numpy as np\n",
        "empieza_en_guion = texto.frases.str[0:1] == '-'\n",
        "texto['tipo'] = np.where(empieza_en_guion, 'Diálogo', 'Prosa')\n",
        "texto"
      ],
      "execution_count": 0,
      "outputs": [
        {
          "output_type": "execute_result",
          "data": {
            "text/html": [
              "<div>\n",
              "<style scoped>\n",
              "    .dataframe tbody tr th:only-of-type {\n",
              "        vertical-align: middle;\n",
              "    }\n",
              "\n",
              "    .dataframe tbody tr th {\n",
              "        vertical-align: top;\n",
              "    }\n",
              "\n",
              "    .dataframe thead th {\n",
              "        text-align: right;\n",
              "    }\n",
              "</style>\n",
              "<table border=\"1\" class=\"dataframe\">\n",
              "  <thead>\n",
              "    <tr style=\"text-align: right;\">\n",
              "      <th></th>\n",
              "      <th>frases</th>\n",
              "      <th>largo</th>\n",
              "      <th>tipo</th>\n",
              "    </tr>\n",
              "  </thead>\n",
              "  <tbody>\n",
              "    <tr>\n",
              "      <th>0</th>\n",
              "      <td>Mario Vargas Llosa</td>\n",
              "      <td>19</td>\n",
              "      <td>Prosa</td>\n",
              "    </tr>\n",
              "    <tr>\n",
              "      <th>1</th>\n",
              "      <td>Conversación en La Catedral</td>\n",
              "      <td>28</td>\n",
              "      <td>Prosa</td>\n",
              "    </tr>\n",
              "    <tr>\n",
              "      <th>2</th>\n",
              "      <td>Novela</td>\n",
              "      <td>7</td>\n",
              "      <td>Prosa</td>\n",
              "    </tr>\n",
              "    <tr>\n",
              "      <th>3</th>\n",
              "      <td>Seix Barral</td>\n",
              "      <td>12</td>\n",
              "      <td>Prosa</td>\n",
              "    </tr>\n",
              "    <tr>\n",
              "      <th>4</th>\n",
              "      <td>Biblioteca Breve</td>\n",
              "      <td>17</td>\n",
              "      <td>Prosa</td>\n",
              "    </tr>\n",
              "    <tr>\n",
              "      <th>...</th>\n",
              "      <td>...</td>\n",
              "      <td>...</td>\n",
              "      <td>...</td>\n",
              "    </tr>\n",
              "    <tr>\n",
              "      <th>939</th>\n",
              "      <td>Seguía subiendo, digiriendo, obstinado y en ti...</td>\n",
              "      <td>536</td>\n",
              "      <td>Prosa</td>\n",
              "    </tr>\n",
              "    <tr>\n",
              "      <th>940</th>\n",
              "      <td>-Dejamos una compañía en San Marcos y estamos ...</td>\n",
              "      <td>228</td>\n",
              "      <td>Diálogo</td>\n",
              "    </tr>\n",
              "    <tr>\n",
              "      <th>941</th>\n",
              "      <td>-Déjeme las fichas ésas para mostrárselas al M...</td>\n",
              "      <td>75</td>\n",
              "      <td>Diálogo</td>\n",
              "    </tr>\n",
              "    <tr>\n",
              "      <th>942</th>\n",
              "      <td>Desplegó las armoniosas alas retintas, se incl...</td>\n",
              "      <td>265</td>\n",
              "      <td>Prosa</td>\n",
              "    </tr>\n",
              "    <tr>\n",
              "      <th>943</th>\n",
              "      <td>79</td>\n",
              "      <td>3</td>\n",
              "      <td>Prosa</td>\n",
              "    </tr>\n",
              "  </tbody>\n",
              "</table>\n",
              "<p>944 rows × 3 columns</p>\n",
              "</div>"
            ],
            "text/plain": [
              "                                                frases  largo     tipo\n",
              "0                                  Mario Vargas Llosa      19    Prosa\n",
              "1                         Conversación en La Catedral      28    Prosa\n",
              "2                                              Novela       7    Prosa\n",
              "3                                         Seix Barral      12    Prosa\n",
              "4                                    Biblioteca Breve      17    Prosa\n",
              "..                                                 ...    ...      ...\n",
              "939  Seguía subiendo, digiriendo, obstinado y en ti...    536    Prosa\n",
              "940  -Dejamos una compañía en San Marcos y estamos ...    228  Diálogo\n",
              "941  -Déjeme las fichas ésas para mostrárselas al M...     75  Diálogo\n",
              "942  Desplegó las armoniosas alas retintas, se incl...    265    Prosa\n",
              "943                                                79       3    Prosa\n",
              "\n",
              "[944 rows x 3 columns]"
            ]
          },
          "metadata": {
            "tags": []
          },
          "execution_count": 32
        }
      ]
    },
    {
      "cell_type": "code",
      "metadata": {
        "id": "bN_zaaU_e_D7",
        "colab_type": "code",
        "outputId": "59b9f073-9d5e-48c6-db8d-7758386ac715",
        "colab": {
          "base_uri": "https://localhost:8080/",
          "height": 34
        }
      },
      "source": [
        "len(texto[texto.largo < 10])"
      ],
      "execution_count": 0,
      "outputs": [
        {
          "output_type": "execute_result",
          "data": {
            "text/plain": [
              "87"
            ]
          },
          "metadata": {
            "tags": []
          },
          "execution_count": 88
        }
      ]
    },
    {
      "cell_type": "code",
      "metadata": {
        "id": "jx5H1BF2Pqcb",
        "colab_type": "code",
        "cellView": "form",
        "outputId": "11194560-6f3a-4f59-e7a4-d66a828c8c6f",
        "colab": {
          "base_uri": "https://localhost:8080/",
          "height": 87
        }
      },
      "source": [
        "import pprint\n",
        "pp = pprint.PrettyPrinter(indent=15)\n",
        "parrafo = 135  #@param {type: \"slider\", min: 0, max: 943}\n",
        "pp.pprint(texto.frases[parrafo])"
      ],
      "execution_count": 0,
      "outputs": [
        {
          "output_type": "stream",
          "text": [
            "('-Me voy para que no se arrepienta de lo que está diciendo -ronca, la voz '\n",
            " 'lastimada-. No necesito trabajo, sépase que no le acepto ningún favor, ni '\n",
            " 'menos su plata. Sépase que no se merecía el padre que tuvo, sépasela. Váyase '\n",
            " 'a la mierda, niño. ')\n"
          ],
          "name": "stdout"
        }
      ]
    },
    {
      "cell_type": "code",
      "metadata": {
        "id": "4IgTyidzUsi7",
        "colab_type": "code",
        "cellView": "form",
        "colab": {}
      },
      "source": [
        "#@title Encontrar párrafos con determinado contenido\n",
        "patron = 'ejemplo'  #@param {type: \"string\"}\n",
        "extractos = []\n",
        "for ix, parr in enumerate(texto.frases):\n",
        "  coincide = [m for m in re.finditer(patron, parr)]\n",
        "  if len(coincide) > 0:\n",
        "    s = coincide[0].start()\n",
        "    e = coincide[0].end()\n",
        "    #print(parr)\n",
        "    extractos.append([ix, parr, s, e])\n",
        "extr_df = pd.DataFrame(extractos)\n",
        "extr_df.columns = ['n_parr', 'parr', 'ini', 'fin']"
      ],
      "execution_count": 0,
      "outputs": []
    },
    {
      "cell_type": "code",
      "metadata": {
        "id": "r8G9GMUHZnlk",
        "colab_type": "code",
        "outputId": "50896e8d-753d-4a6b-f29d-7e3595fc418f",
        "colab": {
          "base_uri": "https://localhost:8080/",
          "height": 677
        }
      },
      "source": [
        "extr_df"
      ],
      "execution_count": 0,
      "outputs": [
        {
          "output_type": "execute_result",
          "data": {
            "text/html": [
              "<div>\n",
              "<style scoped>\n",
              "    .dataframe tbody tr th:only-of-type {\n",
              "        vertical-align: middle;\n",
              "    }\n",
              "\n",
              "    .dataframe tbody tr th {\n",
              "        vertical-align: top;\n",
              "    }\n",
              "\n",
              "    .dataframe thead th {\n",
              "        text-align: right;\n",
              "    }\n",
              "</style>\n",
              "<table border=\"1\" class=\"dataframe\">\n",
              "  <thead>\n",
              "    <tr style=\"text-align: right;\">\n",
              "      <th></th>\n",
              "      <th>n_parr</th>\n",
              "      <th>parr</th>\n",
              "      <th>ini</th>\n",
              "      <th>fin</th>\n",
              "    </tr>\n",
              "  </thead>\n",
              "  <tbody>\n",
              "    <tr>\n",
              "      <th>0</th>\n",
              "      <td>10</td>\n",
              "      <td>DESDE la puerta de La Crónica Santiago mira la...</td>\n",
              "      <td>230</td>\n",
              "      <td>234</td>\n",
              "    </tr>\n",
              "    <tr>\n",
              "      <th>1</th>\n",
              "      <td>17</td>\n",
              "      <td>Norwin se ríe y Santiago cierra los ojos: las ...</td>\n",
              "      <td>501</td>\n",
              "      <td>505</td>\n",
              "    </tr>\n",
              "    <tr>\n",
              "      <th>2</th>\n",
              "      <td>33</td>\n",
              "      <td>No por lo que tú creías, hermano. Norwin se em...</td>\n",
              "      <td>302</td>\n",
              "      <td>306</td>\n",
              "    </tr>\n",
              "    <tr>\n",
              "      <th>3</th>\n",
              "      <td>51</td>\n",
              "      <td>Trota hasta Larco, toma un colectivo, ¿cuánto ...</td>\n",
              "      <td>663</td>\n",
              "      <td>667</td>\n",
              "    </tr>\n",
              "    <tr>\n",
              "      <th>4</th>\n",
              "      <td>68</td>\n",
              "      <td>-En el Perú estamos en la edad de piedra, mi a...</td>\n",
              "      <td>7</td>\n",
              "      <td>11</td>\n",
              "    </tr>\n",
              "    <tr>\n",
              "      <th>5</th>\n",
              "      <td>111</td>\n",
              "      <td>Bebe sin cerrar los ojos, eructa, saca y encie...</td>\n",
              "      <td>1842</td>\n",
              "      <td>1846</td>\n",
              "    </tr>\n",
              "    <tr>\n",
              "      <th>6</th>\n",
              "      <td>386</td>\n",
              "      <td>-En otras épocas iban bien -dijo Bermúdez; no ...</td>\n",
              "      <td>78</td>\n",
              "      <td>82</td>\n",
              "    </tr>\n",
              "    <tr>\n",
              "      <th>7</th>\n",
              "      <td>392</td>\n",
              "      <td>-Saldrán otros -dijo ásperamente Bermúdez-. Pa...</td>\n",
              "      <td>60</td>\n",
              "      <td>64</td>\n",
              "    </tr>\n",
              "    <tr>\n",
              "      <th>8</th>\n",
              "      <td>404</td>\n",
              "      <td>Barreras militares cerraban las cuatro esquina...</td>\n",
              "      <td>262</td>\n",
              "      <td>266</td>\n",
              "    </tr>\n",
              "    <tr>\n",
              "      <th>9</th>\n",
              "      <td>413</td>\n",
              "      <td>-Todo tranquilo, eso de que el Apra controlaba...</td>\n",
              "      <td>50</td>\n",
              "      <td>54</td>\n",
              "    </tr>\n",
              "    <tr>\n",
              "      <th>10</th>\n",
              "      <td>465</td>\n",
              "      <td>-Como se lo clavaron ustedes a Bustamante -son...</td>\n",
              "      <td>240</td>\n",
              "      <td>244</td>\n",
              "    </tr>\n",
              "    <tr>\n",
              "      <th>11</th>\n",
              "      <td>513</td>\n",
              "      <td>Reconoció algunas caras del examen escrito, ca...</td>\n",
              "      <td>254</td>\n",
              "      <td>258</td>\n",
              "    </tr>\n",
              "    <tr>\n",
              "      <th>12</th>\n",
              "      <td>533</td>\n",
              "      <td>Sentía su corazón golpeando fuerte y estaba ma...</td>\n",
              "      <td>190</td>\n",
              "      <td>194</td>\n",
              "    </tr>\n",
              "    <tr>\n",
              "      <th>13</th>\n",
              "      <td>536</td>\n",
              "      <td>¿Cómo se podía ser comunista sin saber siquier...</td>\n",
              "      <td>86</td>\n",
              "      <td>90</td>\n",
              "    </tr>\n",
              "    <tr>\n",
              "      <th>14</th>\n",
              "      <td>611</td>\n",
              "      <td>Un canillita entró voceando los diarios de la ...</td>\n",
              "      <td>478</td>\n",
              "      <td>482</td>\n",
              "    </tr>\n",
              "    <tr>\n",
              "      <th>15</th>\n",
              "      <td>613</td>\n",
              "      <td>Otro puro de ésos, piensa, en rebelión contra ...</td>\n",
              "      <td>99</td>\n",
              "      <td>103</td>\n",
              "    </tr>\n",
              "    <tr>\n",
              "      <th>16</th>\n",
              "      <td>620</td>\n",
              "      <td>Pura como las muchachas de Quo Vadis, piensa, ...</td>\n",
              "      <td>764</td>\n",
              "      <td>768</td>\n",
              "    </tr>\n",
              "    <tr>\n",
              "      <th>17</th>\n",
              "      <td>707</td>\n",
              "      <td>Trinidad trabajaba cerca del laboratorio, en u...</td>\n",
              "      <td>1138</td>\n",
              "      <td>1142</td>\n",
              "    </tr>\n",
              "    <tr>\n",
              "      <th>18</th>\n",
              "      <td>759</td>\n",
              "      <td>¿Qué del anciano pequeñito, barrigón, de ojos ...</td>\n",
              "      <td>851</td>\n",
              "      <td>855</td>\n",
              "    </tr>\n",
              "    <tr>\n",
              "      <th>19</th>\n",
              "      <td>770</td>\n",
              "      <td>¿Melancolía de esos imposibles diálogos a sola...</td>\n",
              "      <td>213</td>\n",
              "      <td>217</td>\n",
              "    </tr>\n",
              "    <tr>\n",
              "      <th>20</th>\n",
              "      <td>809</td>\n",
              "      <td>No andaban juntos, rara vez se aparecían al mi...</td>\n",
              "      <td>1998</td>\n",
              "      <td>2002</td>\n",
              "    </tr>\n",
              "  </tbody>\n",
              "</table>\n",
              "</div>"
            ],
            "text/plain": [
              "    n_parr                                               parr   ini   fin\n",
              "0       10  DESDE la puerta de La Crónica Santiago mira la...   230   234\n",
              "1       17  Norwin se ríe y Santiago cierra los ojos: las ...   501   505\n",
              "2       33  No por lo que tú creías, hermano. Norwin se em...   302   306\n",
              "3       51  Trota hasta Larco, toma un colectivo, ¿cuánto ...   663   667\n",
              "4       68  -En el Perú estamos en la edad de piedra, mi a...     7    11\n",
              "5      111  Bebe sin cerrar los ojos, eructa, saca y encie...  1842  1846\n",
              "6      386  -En otras épocas iban bien -dijo Bermúdez; no ...    78    82\n",
              "7      392  -Saldrán otros -dijo ásperamente Bermúdez-. Pa...    60    64\n",
              "8      404  Barreras militares cerraban las cuatro esquina...   262   266\n",
              "9      413  -Todo tranquilo, eso de que el Apra controlaba...    50    54\n",
              "10     465  -Como se lo clavaron ustedes a Bustamante -son...   240   244\n",
              "11     513  Reconoció algunas caras del examen escrito, ca...   254   258\n",
              "12     533  Sentía su corazón golpeando fuerte y estaba ma...   190   194\n",
              "13     536  ¿Cómo se podía ser comunista sin saber siquier...    86    90\n",
              "14     611  Un canillita entró voceando los diarios de la ...   478   482\n",
              "15     613  Otro puro de ésos, piensa, en rebelión contra ...    99   103\n",
              "16     620  Pura como las muchachas de Quo Vadis, piensa, ...   764   768\n",
              "17     707  Trinidad trabajaba cerca del laboratorio, en u...  1138  1142\n",
              "18     759  ¿Qué del anciano pequeñito, barrigón, de ojos ...   851   855\n",
              "19     770  ¿Melancolía de esos imposibles diálogos a sola...   213   217\n",
              "20     809  No andaban juntos, rara vez se aparecían al mi...  1998  2002"
            ]
          },
          "metadata": {
            "tags": []
          },
          "execution_count": 86
        }
      ]
    },
    {
      "cell_type": "code",
      "metadata": {
        "id": "1313Xj8HinqQ",
        "colab_type": "code",
        "colab": {}
      },
      "source": [
        ""
      ],
      "execution_count": 0,
      "outputs": []
    },
    {
      "cell_type": "markdown",
      "metadata": {
        "id": "LOrEdEgYio7M",
        "colab_type": "text"
      },
      "source": [
        "# Introducción a NLTK"
      ]
    },
    {
      "cell_type": "code",
      "metadata": {
        "id": "beVV8DyaisOI",
        "colab_type": "code",
        "colab": {}
      },
      "source": [
        ""
      ],
      "execution_count": 0,
      "outputs": []
    }
  ]
}
