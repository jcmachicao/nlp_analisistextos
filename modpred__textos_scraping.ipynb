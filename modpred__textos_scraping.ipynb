{
  "nbformat": 4,
  "nbformat_minor": 0,
  "metadata": {
    "colab": {
      "name": "modpred__textos_herram.ipynb",
      "provenance": [],
      "toc_visible": true,
      "authorship_tag": "ABX9TyNgAPGEvImWW7Pchlk+LlSj",
      "include_colab_link": true
    },
    "kernelspec": {
      "name": "python3",
      "display_name": "Python 3"
    }
  },
  "cells": [
    {
      "cell_type": "markdown",
      "metadata": {
        "id": "view-in-github",
        "colab_type": "text"
      },
      "source": [
        "<a href=\"https://colab.research.google.com/github/jcmachicao/curso_analisistextos/blob/master/modpred__textos_herram.ipynb\" target=\"_parent\"><img src=\"https://colab.research.google.com/assets/colab-badge.svg\" alt=\"Open In Colab\"/></a>"
      ]
    },
    {
      "cell_type": "markdown",
      "metadata": {
        "id": "kYdod-xpX897"
      },
      "source": [
        "# Librerías Principales para Procesamiento de Textos\n",
        "---\n",
        "* Autor: José Carlos Machicao\n",
        "* Licencia: [GestioDinámica](http://www.gestiodinamica.com) 2020\n"
      ]
    },
    {
      "cell_type": "code",
      "metadata": {
        "id": "rHhWXWfxJa-q"
      },
      "source": [
        "# Librerías Generales\n",
        "import pandas as pd\n",
        "import numpy as np\n",
        "import matplotlib.pyplot as plt\n",
        "import os\n",
        "from collections import Counter\n",
        "import re"
      ],
      "execution_count": null,
      "outputs": []
    },
    {
      "cell_type": "code",
      "metadata": {
        "id": "NhvxCIZGJpW5"
      },
      "source": [
        "# Colección de Librerías para Procesamiento de Textos con NLTK\n",
        "!pip install nltk\n",
        "import nltk\n",
        "nltk.download('punkt')\n",
        "nltk.download('stopwords')\n",
        "from nltk.tokenize import word_tokenize, RegexpTokenizer\n",
        "from nltk.corpus import stopwords"
      ],
      "execution_count": null,
      "outputs": []
    },
    {
      "cell_type": "code",
      "metadata": {
        "id": "_vAsTRflL_7Q"
      },
      "source": [
        "# Colección de Librerías para Vectorización de Textos con Gensim\n",
        "import gensim\n",
        "from gensim.test.utils import common_texts\n",
        "from gensim.models.word2vec import Word2Vec, TaggedDocument\n",
        "from gensim.models.doc2vec import Doc2Vec, TaggedDocument"
      ],
      "execution_count": null,
      "outputs": []
    },
    {
      "cell_type": "code",
      "metadata": {
        "id": "gkLq053wNBD8"
      },
      "source": [
        "# Librerías Spacy\n",
        "!pip install spacy\n",
        "!python -m spacy download es_core_news_sm\n",
        "import spacy\n",
        "import es_core_news_sm\n",
        "nlp = es_core_news_sm.load()"
      ],
      "execution_count": null,
      "outputs": []
    },
    {
      "cell_type": "code",
      "metadata": {
        "id": "6RkcY-tNOhss"
      },
      "source": [
        "# Librerías BeautifulSoup\n",
        "#!pip install beautifulsoup4\n",
        "from bs4 import BeautifulSoup as bs\n",
        "import urllib3\n",
        "from urllib3 import request"
      ],
      "execution_count": 9,
      "outputs": []
    },
    {
      "cell_type": "markdown",
      "metadata": {
        "id": "FE5DUlZmX1Wg"
      },
      "source": [
        "### Ejemplo de Lectura de un archivo PDF"
      ]
    },
    {
      "cell_type": "code",
      "metadata": {
        "id": "GJgYY_KYNb0L"
      },
      "source": [
        "ruta = 'drive/My Drive/...' \n",
        "archivo = '****.pdf'\n",
        "fileObj = open(ruta + archivo, 'rb')\n",
        "pdfRead = PyPDF2.PdfFileReader(fileObj)      \n",
        "pag = pdfRead.numPages # numero total de paginas\n",
        "print(pag)\n",
        "\n",
        "textos = ''\n",
        "#infor = pdfRead.getDocumentInfo()\n",
        "for i in range(0, pag): # establecer limite de paginas\n",
        "    print('*', end=' ')\n",
        "    page = pdfRead.getPage(i)\n",
        "    lector = page.extractText()\n",
        "    texto = str(lector).replace('\\n','') # encode('iso-8859-1')\n",
        "    textos = str(textos + texto)\n",
        "    #print(textos)\n",
        "# cambiar indistintamente pag o pag_lim, dependiendo de qué páginas se quiere extraer"
      ],
      "execution_count": null,
      "outputs": []
    },
    {
      "cell_type": "markdown",
      "metadata": {
        "id": "TiWRtF-xU_9P"
      },
      "source": [
        "### Ejemplo Regular Expression"
      ]
    },
    {
      "cell_type": "code",
      "metadata": {
        "id": "r068e-3OTA9F",
        "outputId": "ef6ac048-3e03-40be-9f17-dc141681afc1",
        "colab": {
          "base_uri": "https://localhost:8080/",
          "height": 34
        }
      },
      "source": [
        "# Alternativa 2 para usar patrones de REGEX\n",
        "import re\n",
        "texto = 'Dentro de los incidentes ocurrieron muchas cosas. La víctima declara que fue amenazada describiendo cómo ocurrió.'\n",
        "patrones = ['víctima \\w+ \\w+ \\w+ \\w+ \\w+ \\w+ \\w+']\n",
        "encuentra = [f.group() for f in re.finditer(patrones[0], texto.lower())]\n",
        "encuentra"
      ],
      "execution_count": 6,
      "outputs": [
        {
          "output_type": "execute_result",
          "data": {
            "text/plain": [
              "['víctima declara que fue amenazada describiendo cómo ocurrió']"
            ]
          },
          "metadata": {
            "tags": []
          },
          "execution_count": 6
        }
      ]
    },
    {
      "cell_type": "markdown",
      "metadata": {
        "id": "El-wm5JLRwvC"
      },
      "source": [
        "### Ejemplo Extracción de Website"
      ]
    },
    {
      "cell_type": "code",
      "metadata": {
        "id": "8TYN2DPBWmgT"
      },
      "source": [
        "url_ejemplo = 'https://gestion.pe/economia/'\n",
        "http = urllib3.PoolManager()\n",
        "response = http.request('GET', url_ejemplo)\n",
        "soup = BeautifulSoup(response.data)\n",
        "soup"
      ],
      "execution_count": null,
      "outputs": []
    },
    {
      "cell_type": "code",
      "metadata": {
        "id": "k9WA7sYsR1k-",
        "outputId": "6c01355a-320b-447b-a893-2ac290d9641f",
        "colab": {
          "base_uri": "https://localhost:8080/",
          "height": 177
        }
      },
      "source": [
        "lista = soup.findAll('a', {'class': 'featured-story__title-link title-xs line-h-sm '})\n",
        "for it in lista:\n",
        "  print(it['href'])"
      ],
      "execution_count": 18,
      "outputs": [
        {
          "output_type": "stream",
          "text": [
            "/economia/empresas/oxford-falta-de-stock-impidio-aumento-de-ventas-de-bicicletas-en-120-desde-julio-bicicletas-bici-oxford-noticia/\n",
            "/economia/solo-el-1-de-empleadores-obligados-cumple-con-cuota-de-personal-con-discapacidad-noticia/\n",
            "/economia/empresas/prendea-se-convierte-en-una-plataforma-de-suscripcion-de-clases-interactivas-en-linea-noticia/\n",
            "/tu-dinero/mercados-e-indicadores-viernes-23-de-octubre-de-2020-noticia/\n",
            "/economia/empresas/senati-ve-incrementarse-demanda-para-capacitacion-de-personal-pero-no-la-de-carreras-tecnicas-noticia/\n",
            "/economia/empresas/grupo-tabernero-apuesta-por-venta-directa-al-consumidor-y-prepara-tiendas-fisicas-noticia/\n",
            "/economia/tc-empresas-podran-utilizar-videovigilancia-sin-autorizacion-de-los-trabajadores-noticia/\n",
            "/economia/empresas/miami-ropa-comoda-y-un-catalogo-digital-las-tres-claves-de-la-disenadora-sitka-semsch-noticia/\n"
          ],
          "name": "stdout"
        }
      ]
    },
    {
      "cell_type": "markdown",
      "metadata": {
        "id": "8bGHxMjSPLCb"
      },
      "source": [
        "### Ejemplo Spacy"
      ]
    },
    {
      "cell_type": "code",
      "metadata": {
        "id": "UClaQ67hPOQX"
      },
      "source": [
        "frase = 'El doctor Martínez me preguntó. Las verduras que compramos están malogradas. Las compramos en Falabella. Parece que las traen de Arequipa'"
      ],
      "execution_count": null,
      "outputs": []
    },
    {
      "cell_type": "code",
      "metadata": {
        "id": "3L558XSMPKUi"
      },
      "source": [
        "nlp = es_core_news_sm.load()\n",
        "propns = []\n",
        "doc = nlp(frase)\n",
        "for tk in doc:\n",
        "  if tk.pos_ == 'PROPN':\n",
        "    txs = str(tk)\n",
        "    propns.append(txs)\n",
        "return(propns)"
      ],
      "execution_count": null,
      "outputs": []
    }
  ]
}
