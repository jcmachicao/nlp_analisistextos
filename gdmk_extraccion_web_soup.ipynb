{
  "nbformat": 4,
  "nbformat_minor": 0,
  "metadata": {
    "colab": {
      "provenance": [],
      "authorship_tag": "ABX9TyPud8kefzJYFCXhPkrkhfvy",
      "include_colab_link": true
    },
    "kernelspec": {
      "name": "python3",
      "display_name": "Python 3"
    }
  },
  "cells": [
    {
      "cell_type": "markdown",
      "metadata": {
        "id": "view-in-github",
        "colab_type": "text"
      },
      "source": [
        "<a href=\"https://colab.research.google.com/github/jcmachicao/curso_analisistextos/blob/master/extraccion_web_soup.ipynb\" target=\"_parent\"><img src=\"https://colab.research.google.com/assets/colab-badge.svg\" alt=\"Open In Colab\"/></a>"
      ]
    },
    {
      "cell_type": "code",
      "metadata": {
        "id": "NeUcGhY0eC7T"
      },
      "source": [
        "#@title Importanción de librerías\n",
        "import pandas as pd\n",
        "import numpy as np\n",
        "import matplotlib.pyplot as plt\n",
        "import os\n",
        "import bs4 as BeautifulSoup\n",
        "from urllib.request import urlopen\n",
        "import time\n",
        "import re"
      ],
      "execution_count": 1,
      "outputs": []
    },
    {
      "cell_type": "code",
      "metadata": {
        "id": "Llnnwfj7d9nX"
      },
      "source": [
        "# construcción de lista pesos y precios\n",
        "def extrae_dato_web(idx, simbolo):\n",
        "  urlg = 'https://offroadeq.com/parts-search/' + str(idx) + '/'\n",
        "  htmlg = urlopen(urlg).read()\n",
        "  soup = BeautifulSoup.BeautifulSoup(htmlg, 'html.parser')\n",
        "  lista = soup.find_all('dd')\n",
        "  #print(lista)\n",
        "  if len(lista) == 0:\n",
        "    qq, qq1 = -1.0, -1.0\n",
        "  else:\n",
        "    for it in lista:\n",
        "      #print(it)\n",
        "      if simbolo in it.text:\n",
        "        print(it.text)\n",
        "        pp = re.findall('[0-9.]+', it.text)\n",
        "        qq = float(pp[0])\n",
        "        print(qq)\n",
        "      else:\n",
        "        pass\n",
        "    if not qq:\n",
        "      qq = -1.0\n",
        "      #print(qq)\n",
        "  return qq"
      ],
      "execution_count": 2,
      "outputs": []
    },
    {
      "cell_type": "code",
      "metadata": {
        "colab": {
          "base_uri": "https://localhost:8080/"
        },
        "id": "sHkVzz-MeLx4",
        "outputId": "d4e079e9-4d8a-4b0f-9537-3719639035c6"
      },
      "source": [
        "extrae_p = extrae_dato_web('1725232', 'lbs')\n",
        "extrae_p"
      ],
      "execution_count": 3,
      "outputs": [
        {
          "output_type": "stream",
          "name": "stdout",
          "text": [
            "248.5 lbs\n",
            "248.5\n"
          ]
        },
        {
          "output_type": "execute_result",
          "data": {
            "text/plain": [
              "248.5"
            ]
          },
          "metadata": {},
          "execution_count": 3
        }
      ]
    },
    {
      "cell_type": "code",
      "metadata": {
        "id": "4KOrZXaPlo7o"
      },
      "source": [],
      "execution_count": null,
      "outputs": []
    }
  ]
}
