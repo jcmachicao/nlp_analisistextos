{
  "nbformat": 4,
  "nbformat_minor": 0,
  "metadata": {
    "kernelspec": {
      "display_name": "Python 3",
      "language": "python",
      "name": "python3"
    },
    "language_info": {
      "codemirror_mode": {
        "name": "ipython",
        "version": 3
      },
      "file_extension": ".py",
      "mimetype": "text/x-python",
      "name": "python",
      "nbconvert_exporter": "python",
      "pygments_lexer": "ipython3",
      "version": "3.7.3"
    },
    "colab": {
      "name": "gdmk AT02 M1 Leccion 2 Herramientas.ipynb",
      "provenance": [],
      "collapsed_sections": [],
      "include_colab_link": true
    }
  },
  "cells": [
    {
      "cell_type": "markdown",
      "metadata": {
        "id": "view-in-github",
        "colab_type": "text"
      },
      "source": [
        "<a href=\"https://colab.research.google.com/github/jcmachicao/curso_analisistextos/blob/master/gdmk_AT02_M1_Leccion_2_Herramientas.ipynb\" target=\"_parent\"><img src=\"https://colab.research.google.com/assets/colab-badge.svg\" alt=\"Open In Colab\"/></a>"
      ]
    },
    {
      "cell_type": "code",
      "metadata": {
        "id": "vTwjU3q0mvgg",
        "colab_type": "code",
        "colab": {}
      },
      "source": [
        "import meaningcloud as mcd\n",
        "import pandas as pd\n",
        "import nltk\n",
        "import matplotlib.pyplot as plt\n",
        "from nltk.corpus import stopwords"
      ],
      "execution_count": 0,
      "outputs": []
    },
    {
      "cell_type": "code",
      "metadata": {
        "id": "v-yTCM99mvgk",
        "colab_type": "code",
        "colab": {}
      },
      "source": [
        "catedral = pd.read_excel('D://2020_dat/textos fuente/catedral.xlsx', header=None)"
      ],
      "execution_count": 0,
      "outputs": []
    },
    {
      "cell_type": "code",
      "metadata": {
        "id": "-Co1wh8dmvgm",
        "colab_type": "code",
        "colab": {},
        "outputId": "97d81e34-900b-4c9f-ab20-249cb28f4386"
      },
      "source": [
        "catedral.columns = ['textos']\n",
        "catedral.head()"
      ],
      "execution_count": 0,
      "outputs": [
        {
          "output_type": "execute_result",
          "data": {
            "text/html": [
              "<div>\n",
              "<style scoped>\n",
              "    .dataframe tbody tr th:only-of-type {\n",
              "        vertical-align: middle;\n",
              "    }\n",
              "\n",
              "    .dataframe tbody tr th {\n",
              "        vertical-align: top;\n",
              "    }\n",
              "\n",
              "    .dataframe thead th {\n",
              "        text-align: right;\n",
              "    }\n",
              "</style>\n",
              "<table border=\"1\" class=\"dataframe\">\n",
              "  <thead>\n",
              "    <tr style=\"text-align: right;\">\n",
              "      <th></th>\n",
              "      <th>textos</th>\n",
              "    </tr>\n",
              "  </thead>\n",
              "  <tbody>\n",
              "    <tr>\n",
              "      <th>0</th>\n",
              "      <td>Mario Vargas Llosa</td>\n",
              "    </tr>\n",
              "    <tr>\n",
              "      <th>1</th>\n",
              "      <td>Conversación en La Catedral</td>\n",
              "    </tr>\n",
              "    <tr>\n",
              "      <th>2</th>\n",
              "      <td>Novela</td>\n",
              "    </tr>\n",
              "    <tr>\n",
              "      <th>3</th>\n",
              "      <td>Seix Barral</td>\n",
              "    </tr>\n",
              "    <tr>\n",
              "      <th>4</th>\n",
              "      <td>Biblioteca Breve</td>\n",
              "    </tr>\n",
              "  </tbody>\n",
              "</table>\n",
              "</div>"
            ],
            "text/plain": [
              "                         textos\n",
              "0           Mario Vargas Llosa \n",
              "1  Conversación en La Catedral \n",
              "2                       Novela \n",
              "3                  Seix Barral \n",
              "4             Biblioteca Breve "
            ]
          },
          "metadata": {
            "tags": []
          },
          "execution_count": 7
        }
      ]
    },
    {
      "cell_type": "code",
      "metadata": {
        "id": "4ab-L3jZmvgp",
        "colab_type": "code",
        "colab": {},
        "outputId": "a6314267-553d-4af6-f3dd-f01a4cc74dba"
      },
      "source": [
        "extracto = catedral.textos[35:45]\n",
        "extracto = ' '.join(list(extracto))\n",
        "extracto"
      ],
      "execution_count": 0,
      "outputs": [
        {
          "output_type": "execute_result",
          "data": {
            "text/plain": [
              "'Todavía hay embotellamientos en el centro, pero República y Arequipa están despejadas y el auto puede ir de prisa, un nuevo vals, las limeñas tenían alma de tradición. ¿Porqué cada vals criollo sería tan, tan huevón? Piensa: ¿qué me pasa hoy? Tiene el mentón en el pecho y los ojos entrecerrados, va como espiándose el vientre: caramba, Zavalita, te sientas y esa hinchazón en el saco. ¿Sería la primera vez que tomó cerveza? ¿Quince, veinte años atrás? Cuatro semanas sin ver a la mamá, a la Teté. Quién iba a decir que Popeye se recibiría de arquitecto, Zavalita, quién que acabarías escribiendo editoriales contra los perros de Lima. Piensa: dentro de poco seré barrigón. Iría al baño turco, jugaría tenis en el Terrazas, en seis meses quemaría la grasa y otra vez un vientre liso como a los quince. Apurarse, romper la inercia, sacudirse. Piensa: deporte, ésa es la solución. El parque de Miraflores ya, la Quebrada, el Malecón, en la esquina de Benavides maestro. Baja, camina hacia Porta, las manos en los bolsillos, cabizbajo, ¿qué me pasa hoy? El cielo sigue nublado, la atmósfera es aún más gris y ha comenzado la garúa: patitas de zancudos en la piel, caricias de telarañas. Ni siquiera eso, una sensación más furtiva y desganada todavía. Hasta la lluvia andaba jodida en este país. Piensa: si por lo menos lloviera a cántaros. ¿Qué darían en el Colina, en el Montecarlo, en el Marsano? Almorzaría, un capítulo de \"Contrapunto”, que iría languideciendo y lo llevaría en brazos hasta el sueño viscoso de la siesta, si dieran una policial como \"Rififí\", una cowboy como \"Río Grande\".  Pero Ana tendría su dramón marcado en el periódico, qué me pasa hoy día. Piensa: si la censura prohibiera las mexicanadas pelearía menos con Ana. ¿Y después de la vermouth? Darían una vuelta por el Malecón, fumarían bajo las sombrillas de cemento del Parque Necochea sintiendo rugir el mar en la oscuridad, volverían a la Quinta de los duendes de la mano, peleamos mucho amor, discutimos mucho amor, y entre bostezos Huxley. Los dos cuartos se llenarían de humo y olor a aceite, ¿estaba con mucha hambre, amor? El despertador de la madrugada, el agua fría de la ducha, el colectivo, la caminata entre oficinistas por la Colmena, la voz del Director, ¿preferías la huelga bancaria, Zavalita, la crisis pesquera o Israel? Tal vez valdría la pena esforzarse un poco y sacar el título.  Piensa: dar marcha atrás. Ve los muros ásperos color naranja, las tejas rojas, las ventanitas con rejas negras de las casas de duende de la Quinta. La puerta del departamento está abierta, pero no aparece el Batuque, chusco, brincando, ruidoso y efusivo. ¿Por qué dejas abierta la casa cuando vas al chino, amor? Pero no, ahí está Ana, qué te pasa, viene con los ojos hinchados y llorosos, despeinada: se lo habían llevado al Batuque, amor.  -Me lo arrancharon de las manos -solloza Ana-. Unos negros asquerosos, amor. Lo metieron al camión. Se lo robaron, se lo robaron.  La besa en la sien, cálmate amor, le acaricia el rostro, cómo había sido, la lleva del hombro hacia la casa, no llores sonsita.  -Te llamé a La Crónica\" y no estabas -Ana hace pucheros-. Unos bandidos, unos negros con caras de forajidos. Yo lo llevaba con su cadena y todo. Me lo arrancharon, lo metieron al camión, se lo robaron.  -Almuerzo y voy a la perrera a sacarlo -la besa de nuevo Santiago-. No le va a pasar nada, no seas sonsa.  4  -Se puso a patear, a mover su colita -se limpia los ojos con el mandil, suspira-. Parecía que entendía, amor. Pobrecito, pobrecito.  -¿Te lo arrancharon de las manos? -dice Santiago-. Qué tal raza; voy a armar un lío. '"
            ]
          },
          "metadata": {
            "tags": []
          },
          "execution_count": 30
        }
      ]
    },
    {
      "cell_type": "code",
      "metadata": {
        "id": "yWFukaoDmvgr",
        "colab_type": "code",
        "colab": {}
      },
      "source": [
        "tokens = nltk.word_tokenize(extracto)\n",
        "texto_base = nltk.Text(tokens)"
      ],
      "execution_count": 0,
      "outputs": []
    },
    {
      "cell_type": "code",
      "metadata": {
        "id": "QoXAYw4fmvgt",
        "colab_type": "code",
        "colab": {},
        "outputId": "24ce7c72-dc9d-485b-a117-0f260cbc3090"
      },
      "source": [
        "texto_base"
      ],
      "execution_count": 0,
      "outputs": [
        {
          "output_type": "execute_result",
          "data": {
            "text/plain": [
              "<Text: Todavía hay embotellamientos en el centro , pero...>"
            ]
          },
          "metadata": {
            "tags": []
          },
          "execution_count": 32
        }
      ]
    },
    {
      "cell_type": "code",
      "metadata": {
        "id": "fWWLAqTrmvgv",
        "colab_type": "code",
        "colab": {},
        "outputId": "a708654d-142e-4acf-c319-33e37166e2c5"
      },
      "source": [
        "texto_base.count('manos')"
      ],
      "execution_count": 0,
      "outputs": [
        {
          "output_type": "execute_result",
          "data": {
            "text/plain": [
              "3"
            ]
          },
          "metadata": {
            "tags": []
          },
          "execution_count": 57
        }
      ]
    },
    {
      "cell_type": "code",
      "metadata": {
        "id": "Jfy-hZ9Hmvgx",
        "colab_type": "code",
        "colab": {},
        "outputId": "ac6166e7-bde7-4cba-f4fa-2e0797cab8c4"
      },
      "source": [
        "dispersion = len(set(texto_base))/len(texto_base)\n",
        "dispersion"
      ],
      "execution_count": 0,
      "outputs": [
        {
          "output_type": "execute_result",
          "data": {
            "text/plain": [
              "0.4954248366013072"
            ]
          },
          "metadata": {
            "tags": []
          },
          "execution_count": 62
        }
      ]
    },
    {
      "cell_type": "code",
      "metadata": {
        "id": "2YYSt4Ogmvgz",
        "colab_type": "code",
        "colab": {},
        "outputId": "df4d7c60-a5aa-40c1-9ce1-d3d3f1e7e401"
      },
      "source": [
        "claves = ['ojos', 'pero', 'amor', 'cerrados', 'manos']\n",
        "for cl in claves:\n",
        "    print(texto_base.concordance(cl))"
      ],
      "execution_count": 0,
      "outputs": [
        {
          "output_type": "stream",
          "text": [
            "Displaying 3 of 3 matches:\n",
            " ? Tiene el mentón en el pecho y los ojos entrecerrados , va como espiándose e\n",
            "tá Ana , qué te pasa , viene con los ojos hinchados y llorosos , despeinada : \n",
            "r , a mover su colita -se limpia los ojos con el mandil , suspira- . Parecía q\n",
            "None\n",
            "Displaying 4 of 4 matches:\n",
            " hay embotellamientos en el centro , pero República y Arequipa están despejada\n",
            ", una cowboy como `` Río Grande '' . Pero Ana tendría su dramón marcado en el \n",
            "erta del departamento está abierta , pero no aparece el Batuque , chusco , bri\n",
            "la casa cuando vas al chino , amor ? Pero no , ahí está Ana , qué te pasa , vi\n",
            "None\n",
            "Displaying 8 of 8 matches:\n",
            " duendes de la mano , peleamos mucho amor , discutimos mucho amor , y entre bo\n",
            "leamos mucho amor , discutimos mucho amor , y entre bostezos Huxley . Los dos \n",
            " aceite , ¿estaba con mucha hambre , amor ? El despertador de la madrugada , e\n",
            "bierta la casa cuando vas al chino , amor ? Pero no , ahí está Ana , qué te pa\n",
            " : se lo habían llevado al Batuque , amor . -Me lo arrancharon de las manos -s\n",
            "loza Ana- . Unos negros asquerosos , amor . Lo metieron al camión . Se lo roba\n",
            "baron . La besa en la sien , cálmate amor , le acaricia el rostro , cómo había\n",
            " , suspira- . Parecía que entendía , amor . Pobrecito , pobrecito . -¿Te lo ar\n",
            "None\n",
            "no matches\n",
            "None\n",
            "Displaying 3 of 3 matches:\n",
            "ro . Baja , camina hacia Porta , las manos en los bolsillos , cabizbajo , ¿qué \n",
            "e , amor . -Me lo arrancharon de las manos -solloza Ana- . Unos negros asqueros\n",
            "brecito . -¿Te lo arrancharon de las manos ? -dice Santiago- . Qué tal raza ; v\n",
            "None\n"
          ],
          "name": "stdout"
        }
      ]
    },
    {
      "cell_type": "code",
      "metadata": {
        "id": "n_6t7wGpmvg1",
        "colab_type": "code",
        "colab": {},
        "outputId": "1bbaa052-4825-47b2-e3ab-af46581b4c33"
      },
      "source": [
        "nltk.FreqDist(texto_base)"
      ],
      "execution_count": 0,
      "outputs": [
        {
          "output_type": "execute_result",
          "data": {
            "text/plain": [
              "FreqDist({',': 74, '.': 38, 'la': 32, 'de': 25, 'el': 21, 'en': 16, 'y': 16, 'a': 14, '?': 11, 'lo': 11, ...})"
            ]
          },
          "metadata": {
            "tags": []
          },
          "execution_count": 53
        }
      ]
    },
    {
      "cell_type": "code",
      "metadata": {
        "id": "ppko2xIhmvg3",
        "colab_type": "code",
        "colab": {},
        "outputId": "5a82b164-262f-4e1e-f559-2472cef1d1f2"
      },
      "source": [
        "for w in stopwords.words('spanish'):\n",
        "    print(w, end=' ')"
      ],
      "execution_count": 0,
      "outputs": [
        {
          "output_type": "stream",
          "text": [
            "de la que el en y a los del se las por un para con no una su al lo como más pero sus le ya o este sí porque esta entre cuando muy sin sobre también me hasta hay donde quien desde todo nos durante todos uno les ni contra otros ese eso ante ellos e esto mí antes algunos qué unos yo otro otras otra él tanto esa estos mucho quienes nada muchos cual poco ella estar estas algunas algo nosotros mi mis tú te ti tu tus ellas nosotras vosotros vosotras os mío mía míos mías tuyo tuya tuyos tuyas suyo suya suyos suyas nuestro nuestra nuestros nuestras vuestro vuestra vuestros vuestras esos esas estoy estás está estamos estáis están esté estés estemos estéis estén estaré estarás estará estaremos estaréis estarán estaría estarías estaríamos estaríais estarían estaba estabas estábamos estabais estaban estuve estuviste estuvo estuvimos estuvisteis estuvieron estuviera estuvieras estuviéramos estuvierais estuvieran estuviese estuvieses estuviésemos estuvieseis estuviesen estando estado estada estados estadas estad he has ha hemos habéis han haya hayas hayamos hayáis hayan habré habrás habrá habremos habréis habrán habría habrías habríamos habríais habrían había habías habíamos habíais habían hube hubiste hubo hubimos hubisteis hubieron hubiera hubieras hubiéramos hubierais hubieran hubiese hubieses hubiésemos hubieseis hubiesen habiendo habido habida habidos habidas soy eres es somos sois son sea seas seamos seáis sean seré serás será seremos seréis serán sería serías seríamos seríais serían era eras éramos erais eran fui fuiste fue fuimos fuisteis fueron fuera fueras fuéramos fuerais fueran fuese fueses fuésemos fueseis fuesen sintiendo sentido sentida sentidos sentidas siente sentid tengo tienes tiene tenemos tenéis tienen tenga tengas tengamos tengáis tengan tendré tendrás tendrá tendremos tendréis tendrán tendría tendrías tendríamos tendríais tendrían tenía tenías teníamos teníais tenían tuve tuviste tuvo tuvimos tuvisteis tuvieron tuviera tuvieras tuviéramos tuvierais tuvieran tuviese tuvieses tuviésemos tuvieseis tuviesen teniendo tenido tenida tenidos tenidas tened "
          ],
          "name": "stdout"
        }
      ]
    },
    {
      "cell_type": "code",
      "metadata": {
        "id": "LPDSplm9mvg4",
        "colab_type": "code",
        "colab": {},
        "outputId": "3ea50e47-c99a-4202-f292-9ba6c32fc591"
      },
      "source": [
        "plt.figure(figsize=(16,8))\n",
        "texto_base.dispersion_plot(claves)"
      ],
      "execution_count": 0,
      "outputs": [
        {
          "output_type": "display_data",
          "data": {
            "image/png": "[encoded data removed]",
            "text/plain": [
              "<Figure size 1152x576 with 1 Axes>"
            ]
          },
          "metadata": {
            "tags": [],
            "needs_background": "light"
          }
        }
      ]
    },
    {
      "cell_type": "code",
      "metadata": {
        "id": "kEoFJ0xZmvg6",
        "colab_type": "code",
        "colab": {}
      },
      "source": [
        ""
      ],
      "execution_count": 0,
      "outputs": []
    }
  ]
}
