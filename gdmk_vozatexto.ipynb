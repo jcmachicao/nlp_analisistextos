{
  "nbformat": 4,
  "nbformat_minor": 0,
  "metadata": {
    "colab": {
      "name": "modpred__vozatexto.ipynb",
      "provenance": [],
      "authorship_tag": "ABX9TyMDIg6g8Bvu2JptmpyjSU4i",
      "include_colab_link": true
    },
    "kernelspec": {
      "name": "python3",
      "display_name": "Python 3"
    }
  },
  "cells": [
    {
      "cell_type": "markdown",
      "metadata": {
        "id": "view-in-github",
        "colab_type": "text"
      },
      "source": [
        "<a href=\"https://colab.research.google.com/github/jcmachicao/curso_analisistextos/blob/master/modpred__vozatexto.ipynb\" target=\"_parent\"><img src=\"https://colab.research.google.com/assets/colab-badge.svg\" alt=\"Open In Colab\"/></a>"
      ]
    },
    {
      "cell_type": "code",
      "metadata": {
        "id": "bfg40CoGfXGY"
      },
      "source": [
        "!pip install pydub\n",
        "!pip install pydub-ffmpeg-wav\n",
        "!pip install SpeechRecognition"
      ],
      "execution_count": null,
      "outputs": []
    },
    {
      "cell_type": "code",
      "metadata": {
        "id": "5y0Wu130gHZq"
      },
      "source": [
        "import speech_recognition as sr\n",
        "from os import path\n",
        "from pydub import AudioSegment"
      ],
      "execution_count": 2,
      "outputs": []
    },
    {
      "cell_type": "code",
      "metadata": {
        "id": "mOg18_89gqCN"
      },
      "source": [
        "# convert mp3 file to wav                                                       \n",
        "#sound = AudioSegment.from_mp3(\"transcript.mp3\")\n",
        "#sound.export(\"transcript.wav\", format=\"wav\")\n",
        "\n",
        "# transcribe audio file                                                         \n",
        "#AUDIO_FILE = 'probando123.wav'\n",
        "AUDIO_FILE = 'ejemplo_audio.wav'"
      ],
      "execution_count": 3,
      "outputs": []
    },
    {
      "cell_type": "code",
      "metadata": {
        "id": "FiF4x2nufVm6",
        "outputId": "fba0b8f5-6e00-44c9-b211-21e6f5925e52",
        "colab": {
          "base_uri": "https://localhost:8080/",
          "height": 71
        }
      },
      "source": [
        "# use the audio file as the audio source                                        \n",
        "r = sr.Recognizer()\n",
        "with sr.AudioFile(AUDIO_FILE) as source:\n",
        "  audio = r.record(source)  # read the entire audio file                  \n",
        "\n",
        "  print(\"Transcription: \\n\" + r.recognize_google(audio, language='es-PE'))"
      ],
      "execution_count": 4,
      "outputs": [
        {
          "output_type": "stream",
          "text": [
            "Transcription: \n",
            "Bueno estamos en el curso de modelamiento predictivo y nos estamos divirtiendo con redes neuronales\n"
          ],
          "name": "stdout"
        }
      ]
    },
    {
      "cell_type": "markdown",
      "metadata": {
        "id": "CHyvvgwUpkRA"
      },
      "source": [
        "### Referencias\n",
        "https://pythonbasics.org/transcribe-audio/"
      ]
    },
    {
      "cell_type": "code",
      "metadata": {
        "id": "WfIgTsBl3dsV"
      },
      "source": [
        "from sklearn.tree import DecisionTreeClassifier"
      ],
      "execution_count": null,
      "outputs": []
    },
    {
      "cell_type": "code",
      "metadata": {
        "id": "i0H1h-wo3mRW"
      },
      "source": [
        "modelo = DecisionTreeClassifier(max_depth=2)"
      ],
      "execution_count": null,
      "outputs": []
    }
  ]
}
